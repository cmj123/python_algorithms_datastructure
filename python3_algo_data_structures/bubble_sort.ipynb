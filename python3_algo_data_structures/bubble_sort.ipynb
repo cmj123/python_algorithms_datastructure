{
 "cells": [
  {
   "cell_type": "markdown",
   "metadata": {},
   "source": [
    "### Bubble Sort"
   ]
  },
  {
   "cell_type": "code",
   "execution_count": 8,
   "metadata": {},
   "outputs": [
    {
     "name": "stdout",
     "output_type": "stream",
     "text": [
      "[6, 8, 1, 4, 10, 7, 8, 9, 3, 2, 5]\n",
      "[6, 8, 1, 4, 10, 7, 8, 9, 3, 2, 5]\n",
      "[6, 1, 4, 8, 7, 8, 9, 3, 2, 5, 10]\n",
      "[1, 4, 6, 7, 8, 8, 3, 2, 5, 9, 10]\n",
      "[1, 4, 6, 7, 8, 3, 2, 5, 8, 9, 10]\n",
      "[1, 4, 6, 7, 3, 2, 5, 8, 8, 9, 10]\n",
      "[1, 4, 6, 3, 2, 5, 7, 8, 8, 9, 10]\n",
      "[1, 4, 3, 2, 5, 6, 7, 8, 8, 9, 10]\n",
      "[1, 3, 2, 4, 5, 6, 7, 8, 8, 9, 10]\n",
      "[1, 2, 3, 4, 5, 6, 7, 8, 8, 9, 10]\n"
     ]
    }
   ],
   "source": [
    "def bubble_sort(arr):\n",
    "    swap_happened = True\n",
    "    while swap_happened:\n",
    "        print(arr)\n",
    "        swap_happened = False\n",
    "        for num in range(len(arr)-1):\n",
    "            if (arr[num] > arr[num+1]):\n",
    "                swap_happened = True\n",
    "                arr[num], arr[num+1] = arr[num+1], arr[num]\n",
    "    \n",
    "\n",
    "l = [6, 8, 1, 4, 10,7,8,9,3,2,5]\n",
    "print(l)\n",
    "\n",
    "bubble_sort(l)"
   ]
  },
  {
   "cell_type": "markdown",
   "metadata": {},
   "source": [
    "### Selection Sorting"
   ]
  },
  {
   "cell_type": "code",
   "execution_count": 21,
   "metadata": {},
   "outputs": [
    {
     "name": "stdout",
     "output_type": "stream",
     "text": [
      "[6, 8, 1, 4, 10, 7, 8, 9, 3, 2, 5]\n",
      "[1, 8, 6, 4, 10, 7, 8, 9, 3, 2, 5]\n",
      "[1, 2, 8, 6, 10, 7, 8, 9, 4, 3, 5]\n",
      "[1, 2, 3, 8, 10, 7, 8, 9, 6, 4, 5]\n",
      "[1, 2, 3, 4, 10, 8, 8, 9, 7, 6, 5]\n",
      "[1, 2, 3, 4, 5, 10, 8, 9, 8, 7, 6]\n",
      "[1, 2, 3, 4, 5, 6, 10, 9, 8, 8, 7]\n",
      "[1, 2, 3, 4, 5, 6, 7, 10, 9, 8, 8]\n",
      "[1, 2, 3, 4, 5, 6, 7, 8, 10, 9, 8]\n",
      "[1, 2, 3, 4, 5, 6, 7, 8, 8, 10, 9]\n",
      "[1, 2, 3, 4, 5, 6, 7, 8, 8, 9, 10]\n"
     ]
    }
   ],
   "source": [
    "def selection_sort(arr):\n",
    "    for counter in range(len(arr)):\n",
    "        print(arr)\n",
    "        for num in range(counter, len(arr)-1):\n",
    "            if(arr[counter] > arr[num +1]):\n",
    "                arr[counter], arr[num+1] = arr[num+1], arr[counter]\n",
    "                counter =+ counter\n",
    "    \n",
    "            \n",
    "\n",
    "l = [6, 8, 1, 4, 10,7,8,9,3,2,5]\n",
    "# print(l)\n",
    "\n",
    "selection_sort(l)"
   ]
  },
  {
   "cell_type": "code",
   "execution_count": 18,
   "metadata": {},
   "outputs": [
    {
     "data": {
      "text/plain": [
       "range(0, 10)"
      ]
     },
     "execution_count": 18,
     "metadata": {},
     "output_type": "execute_result"
    }
   ],
   "source": [
    "range(10)"
   ]
  },
  {
   "cell_type": "code",
   "execution_count": null,
   "metadata": {},
   "outputs": [],
   "source": []
  }
 ],
 "metadata": {
  "kernelspec": {
   "display_name": "Python 3",
   "language": "python",
   "name": "python3"
  },
  "language_info": {
   "codemirror_mode": {
    "name": "ipython",
    "version": 3
   },
   "file_extension": ".py",
   "mimetype": "text/x-python",
   "name": "python",
   "nbconvert_exporter": "python",
   "pygments_lexer": "ipython3",
   "version": "3.7.3"
  }
 },
 "nbformat": 4,
 "nbformat_minor": 4
}
